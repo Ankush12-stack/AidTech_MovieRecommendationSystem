{
  "nbformat": 4,
  "nbformat_minor": 0,
  "metadata": {
    "colab": {
      "provenance": []
    },
    "kernelspec": {
      "name": "python3",
      "display_name": "Python 3"
    },
    "language_info": {
      "name": "python"
    }
  },
  "cells": [
    {
      "cell_type": "code",
      "execution_count": null,
      "metadata": {
        "colab": {
          "base_uri": "https://localhost:8080/"
        },
        "id": "PbERzoKKhjiK",
        "outputId": "a0fe6b5d-6806-43cc-b22d-d6316e6de005"
      },
      "outputs": [
        {
          "output_type": "stream",
          "name": "stdout",
          "text": [
            "Requirement already satisfied: scikit-surprise in /usr/local/lib/python3.10/dist-packages (1.1.3)\n",
            "Requirement already satisfied: joblib>=1.0.0 in /usr/local/lib/python3.10/dist-packages (from scikit-surprise) (1.3.2)\n",
            "Requirement already satisfied: numpy>=1.17.3 in /usr/local/lib/python3.10/dist-packages (from scikit-surprise) (1.23.5)\n",
            "Requirement already satisfied: scipy>=1.3.2 in /usr/local/lib/python3.10/dist-packages (from scikit-surprise) (1.11.3)\n"
          ]
        }
      ],
      "source": [
        "pip install scikit-surprise"
      ]
    },
    {
      "cell_type": "code",
      "source": [
        "import pandas as pd\n",
        "from surprise import Dataset, Reader, SVD\n",
        "from surprise.model_selection import train_test_split\n",
        "from surprise import accuracy\n",
        "\n",
        "# Step 1: Load the MovieLens dataset into a Pandas DataFrame\n",
        "# Assuming you have the 'ratings.csv' file in the same directory\n",
        "ratings_df = pd.read_csv('/content/ratings.csv')\n",
        "\n",
        "# Step 2: Preprocess the dataset\n",
        "# Remove duplicates and missing values\n",
        "ratings_df.drop_duplicates(inplace=True)\n",
        "ratings_df.dropna(inplace=True)\n",
        "\n",
        "# Step 3: Convert the data into a Surprise dataset and split into train/test sets\n",
        "reader = Reader(rating_scale=(0.5, 5.0))\n",
        "data = Dataset.load_from_df(ratings_df[['userId', 'movieId', 'rating']], reader)\n",
        "\n",
        "trainset, testset = train_test_split(data, test_size=0.2, random_state=42)\n",
        "\n",
        "# Step 4: Build and train the collaborative filtering model (SVD)\n",
        "model = SVD(n_factors=100, n_epochs=20, verbose=True)  # You can adjust these hyperparameters\n",
        "\n",
        "# Fit the model on the training set\n",
        "model.fit(trainset)\n",
        "\n",
        "# Step 5: Evaluate the model's performance on the testing set\n",
        "predictions = model.test(testset)\n",
        "rmse = accuracy.rmse(predictions)\n",
        "print(f'RMSE on test set: {rmse}')\n",
        "\n",
        "# Step 6: Use the model to make recommendations for a user\n",
        "user_id = 1  # Replace with the user ID for whom you want to make recommendations\n",
        "user_movies = ratings_df[ratings_df['userId'] == user_id]['movieId']\n",
        "\n",
        "# Create a list of movies the user has not rated\n",
        "unrated_movies = ratings_df[~ratings_df['movieId'].isin(user_movies)]['movieId'].unique()\n",
        "\n",
        "# Make predictions for unrated movies\n",
        "user_ratings = []\n",
        "for movie_id in unrated_movies:\n",
        "    predicted_rating = model.predict(user_id, movie_id).est\n",
        "    user_ratings.append((movie_id, predicted_rating))\n",
        "\n",
        "# Sort the recommendations by predicted rating\n",
        "user_ratings.sort(key=lambda x: x[1], reverse=True)\n",
        "\n",
        "# Step 7: Display top N movie recommendations for the user\n",
        "top_n = 10  # Adjust the number of recommendations as needed\n",
        "top_movies = user_ratings[:top_n]\n",
        "print(f\"Top {top_n} recommended movies for User {user_id}:\")\n",
        "for movie_id, predicted_rating in top_movies:\n",
        "    movie_title = ratings_df[ratings_df['movieId'] == movie_id]['rating'].values[0]\n",
        "    print(f\"Movie Title: {movie_title}, Predicted Rating: {predicted_rating:.2f}\")\n",
        "\n",
        "# Step 8: Test the model by inputting new user ratings\n",
        "# You can simulate new user ratings by adding rows to the 'ratings_df' DataFrame\n",
        "# Then, repeat the recommendation process for the new user.\n"
      ],
      "metadata": {
        "colab": {
          "base_uri": "https://localhost:8080/"
        },
        "id": "QvtNpZ24h1uX",
        "outputId": "aa0c9495-eabc-466e-9314-c7523f035d73"
      },
      "execution_count": null,
      "outputs": [
        {
          "output_type": "stream",
          "name": "stdout",
          "text": [
            "Processing epoch 0\n",
            "Processing epoch 1\n",
            "Processing epoch 2\n",
            "Processing epoch 3\n",
            "Processing epoch 4\n",
            "Processing epoch 5\n",
            "Processing epoch 6\n",
            "Processing epoch 7\n",
            "Processing epoch 8\n",
            "Processing epoch 9\n",
            "Processing epoch 10\n",
            "Processing epoch 11\n",
            "Processing epoch 12\n",
            "Processing epoch 13\n",
            "Processing epoch 14\n",
            "Processing epoch 15\n",
            "Processing epoch 16\n",
            "Processing epoch 17\n",
            "Processing epoch 18\n",
            "Processing epoch 19\n",
            "RMSE: 0.8824\n",
            "RMSE on test set: 0.8824096468158413\n",
            "Top 10 recommended movies for User 1:\n",
            "Movie Title: 3.0, Predicted Rating: 5.00\n",
            "Movie Title: 4.0, Predicted Rating: 5.00\n",
            "Movie Title: 5.0, Predicted Rating: 5.00\n",
            "Movie Title: 4.0, Predicted Rating: 5.00\n",
            "Movie Title: 5.0, Predicted Rating: 5.00\n",
            "Movie Title: 4.5, Predicted Rating: 5.00\n",
            "Movie Title: 4.0, Predicted Rating: 5.00\n",
            "Movie Title: 5.0, Predicted Rating: 5.00\n",
            "Movie Title: 5.0, Predicted Rating: 5.00\n",
            "Movie Title: 4.0, Predicted Rating: 5.00\n"
          ]
        }
      ]
    }
  ]
}